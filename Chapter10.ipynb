{
 "metadata": {
  "name": "Chapter10"
 }, 
 "nbformat": 2, 
 "worksheets": [
  {
   "cells": [
    {
     "cell_type": "code", 
     "collapsed": false, 
     "input": [
      "#10.1", 
      "def listSum(l):", 
      "    s = []", 
      "    for i in range(len(l)):", 
      "        s.append(sum(l[:i+1]))", 
      "    return s", 
      "x = [1,2,3,4,5]", 
      "y = [3, 5, 6, 12, 95, -3, -73]", 
      "print listSum(x)", 
      "print listSum(y)"
     ], 
     "language": "python", 
     "outputs": [
      {
       "output_type": "stream", 
       "stream": "stdout", 
       "text": [
        "[1, 3, 6, 10, 15]", 
        "[3, 8, 14, 26, 121, 118, 45]"
       ]
      }
     ], 
     "prompt_number": 23
    }, 
    {
     "cell_type": "code", 
     "collapsed": false, 
     "input": [
      "#10.2", 
      "def chop(ls):", 
      "    del ls[0]", 
      "    del ls[-1]", 
      "    return", 
      "hi = [2,3,5,6,2]", 
      "x = chop(hi)", 
      "print hi", 
      "print x"
     ], 
     "language": "python", 
     "outputs": [
      {
       "output_type": "stream", 
       "stream": "stdout", 
       "text": [
        "[3, 5, 6]", 
        "None"
       ]
      }
     ], 
     "prompt_number": 5
    }, 
    {
     "cell_type": "code", 
     "collapsed": false, 
     "input": [
      "#10.3", 
      "def isSorted(ls):", 
      "    n = 0", 
      "    while n < len(ls)-1:", 
      "        if ls[n] > ls[n+1]:", 
      "            return False", 
      "        n += 1", 
      "    return True", 
      "print isSorted([1,2,3,4])", 
      "print isSorted(['a','b','c'])", 
      "print isSorted([1,2,4,3])", 
      "print isSorted(['b', 'a', 'c'])"
     ], 
     "language": "python", 
     "outputs": [
      {
       "output_type": "stream", 
       "stream": "stdout", 
       "text": [
        "True", 
        "True", 
        "False", 
        "False"
       ]
      }
     ], 
     "prompt_number": 7
    }, 
    {
     "cell_type": "code", 
     "collapsed": false, 
     "input": [
      "#10.4", 
      "def isAnagram(a, b):", 
      "    x = list(a)", 
      "    y = list(b)", 
      "    if len(x) != len(y):", 
      "        return False", 
      "    while len(x) > 0:", 
      "        if x[0] not in y:", 
      "           return False", 
      "        y.remove(x[0])", 
      "        del x[0]", 
      "    return True", 
      "print isAnagram('hello','olelh')", 
      "print isAnagram('hello', 'hi')", 
      "print isAnagram('hello', 'hevlo')"
     ], 
     "language": "python", 
     "outputs": [
      {
       "output_type": "stream", 
       "stream": "stdout", 
       "text": [
        "True", 
        "False", 
        "False"
       ]
      }
     ], 
     "prompt_number": 11
    }, 
    {
     "cell_type": "code", 
     "collapsed": true, 
     "input": [], 
     "language": "python", 
     "outputs": [], 
     "prompt_number": "&nbsp;"
    }
   ]
  }
 ]
}