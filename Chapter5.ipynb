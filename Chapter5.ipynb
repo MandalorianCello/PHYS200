{
 "metadata": {
  "name": "Chapter5"
 }, 
 "nbformat": 2, 
 "worksheets": [
  {
   "cells": [
    {
     "cell_type": "code", 
     "collapsed": false, 
     "input": [
      "def check_fermat(a, b, c, n):", 
      "    if((a**n + b**n == c**n) and (n>2)):", 
      "        print \"Fermat was wrong!\"", 
      "    else:", 
      "        print \"Does not prove Fermat was wrong.\"", 
      "        ", 
      "#a = input('Input value for a: ')", 
      "#int(a)", 
      "#b = input('Input value for b: ')", 
      "#int(b)", 
      "#c = input('Input value for c: ')", 
      "#int(c)", 
      "#n = input('Input value for n: ')", 
      "#int(n)", 
      "#check_fermat(a, b, c, n)"
     ], 
     "language": "python", 
     "outputs": [], 
     "prompt_number": 8
    }, 
    {
     "cell_type": "code", 
     "collapsed": false, 
     "input": [
      "def is_triangle(a, b, c):", 
      "    if ( (a+b < c) or (b+c < a) or (a+c < b) ):", 
      "        print \"Nope\"", 
      "    else:", 
      "        print \"Eeyup\"", 
      "#d = input('Input value for a: ')", 
      "#int(d)", 
      "#e = input('Input value for b: ')", 
      "#int(e)", 
      "#f = input('Input value for c: ')", 
      "#int(f)", 
      "#is_triangle(d, e, f)"
     ], 
     "language": "python", 
     "outputs": [], 
     "prompt_number": 8
    }, 
    {
     "cell_type": "code", 
     "collapsed": true, 
     "input": [], 
     "language": "python", 
     "outputs": [], 
     "prompt_number": "&nbsp;"
    }
   ]
  }
 ]
}