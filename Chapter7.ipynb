{
 "metadata": {
  "name": "Chapter7"
 }, 
 "nbformat": 2, 
 "worksheets": [
  {
   "cells": [
    {
     "cell_type": "code", 
     "collapsed": false, 
     "input": [
      "#7.1", 
      "def print_n(s,n):", 
      "    while n>0:", 
      "        print s", 
      "        n = n-1", 
      "print_n('hello', 3)"
     ], 
     "language": "python", 
     "outputs": [
      {
       "output_type": "stream", 
       "stream": "stdout", 
       "text": [
        "hello", 
        "hello", 
        "hello"
       ]
      }
     ], 
     "prompt_number": 2
    }, 
    {
     "cell_type": "code", 
     "collapsed": false, 
     "input": [
      "#7.2", 
      "def squareRoot(a, ep):", 
      "    x=a/2.", 
      "    print x", 
      "    while true:", 
      "        print x", 
      "        y = (x + a/x)/2.", 
      "        if abs(y-x) < ep:", 
      "            break", 
      "squareRoot(9, .01)"
     ], 
     "language": "python", 
     "outputs": [], 
     "prompt_number": "*"
    }, 
    {
     "cell_type": "code", 
     "collapsed": true, 
     "input": [], 
     "language": "python", 
     "outputs": [], 
     "prompt_number": "&nbsp;"
    }
   ]
  }
 ]
}