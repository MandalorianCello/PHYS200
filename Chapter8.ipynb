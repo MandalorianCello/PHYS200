{
 "metadata": {
  "name": "Chapter8"
 }, 
 "nbformat": 2, 
 "worksheets": [
  {
   "cells": [
    {
     "cell_type": "code", 
     "collapsed": false, 
     "input": [
      "#8.1", 
      "def backString(a):", 
      "    if(len(a)==0):", 
      "        return ''", 
      "    else:", 
      "        return a[-1] + backString(a[:-1])", 
      "print backString('hello')", 
      "print backString('backwards')"
     ], 
     "language": "python", 
     "outputs": [
      {
       "output_type": "stream", 
       "stream": "stdout", 
       "text": [
        "olleh", 
        "sdrawkcab"
       ]
      }
     ], 
     "prompt_number": 5
    }, 
    {
     "cell_type": "code", 
     "collapsed": false, 
     "input": [
      "#8.2", 
      "prefixes = 'JKLMNOPQ'", 
      "suffix = 'ack'", 
      "for letter in prefixes:", 
      "    if (letter == 'O') or (letter == 'Q'):", 
      "        print letter + 'u' + suffix", 
      "    else:", 
      "        print letter + suffix", 
      "        "
     ], 
     "language": "python", 
     "outputs": [
      {
       "output_type": "stream", 
       "stream": "stdout", 
       "text": [
        "Jack", 
        "Kack", 
        "Lack", 
        "Mack", 
        "Nack", 
        "Ouack", 
        "Pack", 
        "Quack"
       ]
      }
     ], 
     "prompt_number": 8
    }, 
    {
     "cell_type": "code", 
     "collapsed": false, 
     "input": [
      "#8.4", 
      "def find(word, letter, index):", 
      "    while index < len(word):", 
      "        if word[index] == letter:", 
      "            return index", 
      "        index += 1", 
      "    return -1", 
      "s = 'Finding a letter in a string'", 
      "print find( s, 'a', 0)", 
      "print find(s, 'a', 12)", 
      "print find(s, 'z', 4)", 
      "    "
     ], 
     "language": "python", 
     "outputs": [
      {
       "output_type": "stream", 
       "stream": "stdout", 
       "text": [
        "8", 
        "20", 
        "-1"
       ]
      }
     ], 
     "prompt_number": 9
    }, 
    {
     "cell_type": "code", 
     "collapsed": false, 
     "input": [
      "#8.5", 
      "def count(s, L):", 
      "    c = 0", 
      "    for letter in s:", 
      "        if letter == L:", 
      "            c += 1", 
      "    print c", 
      "count('purple people eater', 'p')", 
      "count('lalalalalala', 'z')"
     ], 
     "language": "python", 
     "outputs": [
      {
       "output_type": "stream", 
       "stream": "stdout", 
       "text": [
        "4", 
        "0"
       ]
      }
     ], 
     "prompt_number": 11
    }, 
    {
     "cell_type": "code", 
     "collapsed": false, 
     "input": [
      "#8.6", 
      "def count2(s, L):", 
      "    c = 0", 
      "    i = 0", 
      "    while i < len(s):", 
      "        i = find(s, L, i)", 
      "        if i>-1:", 
      "            c += 1", 
      "        else:", 
      "            break", 
      "        i += 1", 
      "    print c", 
      "count2('purple peaple eater', 'p')", 
      "count2('lalalalalala', 'z')"
     ], 
     "language": "python", 
     "outputs": [
      {
       "output_type": "stream", 
       "stream": "stdout", 
       "text": [
        "4", 
        "0"
       ]
      }
     ], 
     "prompt_number": 14
    }, 
    {
     "cell_type": "code", 
     "collapsed": false, 
     "input": [
      "#8.9", 
      "def isPalindrome(s):", 
      "    return s==s[::-1]", 
      "print isPalindrome('hi')", 
      "print isPalindrome('racecar')"
     ], 
     "language": "python", 
     "outputs": [
      {
       "output_type": "stream", 
       "stream": "stdout", 
       "text": [
        "False", 
        "True"
       ]
      }
     ], 
     "prompt_number": 15
    }, 
    {
     "cell_type": "code", 
     "collapsed": true, 
     "input": [
      ""
     ], 
     "language": "python", 
     "outputs": [], 
     "prompt_number": "&nbsp;"
    }
   ]
  }
 ]
}