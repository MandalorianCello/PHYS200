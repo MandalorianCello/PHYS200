{
 "metadata": {
  "name": "Chapter11"
 }, 
 "nbformat": 2, 
 "worksheets": [
  {
   "cells": [
    {
     "cell_type": "code", 
     "collapsed": false, 
     "input": [
      "#11.2", 
      "def histogram(s):", 
      "    d = dict()", 
      "    for c in s:", 
      "        d[c] = 1 + d.get(c,0)", 
      "    return d", 
      "", 
      "h = histogram('brontosaurus')", 
      "print h"
     ], 
     "language": "python", 
     "outputs": [
      {
       "output_type": "stream", 
       "stream": "stdout", 
       "text": [
        "{&apos;a&apos;: 1, &apos;b&apos;: 1, &apos;o&apos;: 2, &apos;n&apos;: 1, &apos;s&apos;: 2, &apos;r&apos;: 2, &apos;u&apos;: 2, &apos;t&apos;: 1}"
       ]
      }
     ], 
     "prompt_number": 15
    }, 
    {
     "cell_type": "code", 
     "collapsed": false, 
     "input": [
      "#11.3", 
      "def print_hist(h):", 
      "    k = h.keys()", 
      "    k.sort()", 
      "    for a in k:", 
      "        print a, h[a]", 
      "        ", 
      "print_hist(h)"
     ], 
     "language": "python", 
     "outputs": [
      {
       "output_type": "stream", 
       "stream": "stdout", 
       "text": [
        "a 1", 
        "b 1", 
        "n 1", 
        "o 2", 
        "r 2", 
        "s 2", 
        "t 1", 
        "u 2"
       ]
      }
     ], 
     "prompt_number": 18
    }, 
    {
     "cell_type": "code", 
     "collapsed": false, 
     "input": [
      "#11.4", 
      "def reverse_lookup(d,v):", 
      "    kys = []", 
      "    for n in d:", 
      "        if d[n] == v:", 
      "            kys.append(n)", 
      "    return kys", 
      "h2 = histogram('parrot')", 
      "print reverse_lookup(h2, 3)", 
      "print reverse_lookup(h2, 2)", 
      "print reverse_lookup(h, 2)"
     ], 
     "language": "python", 
     "outputs": [
      {
       "output_type": "stream", 
       "stream": "stdout", 
       "text": [
        "[]", 
        "[&apos;r&apos;]", 
        "[&apos;o&apos;, &apos;s&apos;, &apos;r&apos;, &apos;u&apos;]"
       ]
      }
     ], 
     "prompt_number": 20
    }, 
    {
     "cell_type": "code", 
     "collapsed": false, 
     "input": [], 
     "language": "python", 
     "outputs": [
      {
       "output_type": "stream", 
       "stream": "stdout", 
       "text": [
        "no Python documentation found for &apos;setdefault&apos;", 
        ""
       ]
      }
     ], 
     "prompt_number": 21
    }, 
    {
     "cell_type": "code", 
     "collapsed": true, 
     "input": [], 
     "language": "python", 
     "outputs": [], 
     "prompt_number": "&nbsp;"
    }
   ]
  }
 ]
}