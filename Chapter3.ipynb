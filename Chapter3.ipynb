{
 "metadata": {
  "name": "Chapter3"
 }, 
 "nbformat": 2, 
 "worksheets": [
  {
   "cells": [
    {
     "cell_type": "code", 
     "collapsed": false, 
     "input": [
      "", 
      "def repeat_lyrics():", 
      "    print_lyrics()", 
      "    print_lyrics()", 
      "def print_lyrics():", 
      "    print \"I'm a lumberjack and I'm okay.\"", 
      "    print \"I sleep all night and I work all day.\"", 
      "repeat_lyrics()"
     ], 
     "language": "python", 
     "outputs": [
      {
       "output_type": "stream", 
       "stream": "stdout", 
       "text": [
        "I&apos;m a lumberjack and I&apos;m okay.", 
        "I sleep all night and I work all day.", 
        "I&apos;m a lumberjack and I&apos;m okay.", 
        "I sleep all night and I work all day."
       ]
      }
     ], 
     "prompt_number": 3
    }, 
    {
     "cell_type": "code", 
     "collapsed": false, 
     "input": [
      "def right_justify(x):", 
      "    l = len(x)", 
      "    print ' '*(70-l) + x", 
      "right_justify('allen')"
     ], 
     "language": "python", 
     "outputs": [
      {
       "output_type": "stream", 
       "stream": "stdout", 
       "text": [
        "                                                                 allen"
       ]
      }
     ], 
     "prompt_number": 4
    }, 
    {
     "cell_type": "code", 
     "collapsed": false, 
     "input": [
      "def do_twice(f):", 
      "    f()", 
      "    f()", 
      "def print_spam():", 
      "    print 'spam'", 
      "    ", 
      "do_twice(print_spam)"
     ], 
     "language": "python", 
     "outputs": [
      {
       "output_type": "stream", 
       "stream": "stdout", 
       "text": [
        "spam", 
        "spam"
       ]
      }
     ], 
     "prompt_number": 5
    }, 
    {
     "cell_type": "code", 
     "collapsed": false, 
     "input": [
      "def do_twice(f, n):", 
      "    f(n)", 
      "    f(n)", 
      "def print_twice(s):", 
      "    print s", 
      "    print s", 
      "do_twice(print_twice, 'spam')"
     ], 
     "language": "python", 
     "outputs": [
      {
       "output_type": "stream", 
       "stream": "stdout", 
       "text": [
        "spam", 
        "spam", 
        "spam", 
        "spam"
       ]
      }
     ], 
     "prompt_number": 1
    }, 
    {
     "cell_type": "code", 
     "collapsed": true, 
     "input": [
      "def do_four(f, a):", 
      "    do_twice(f, a)", 
      "    do_twice(f, a)"
     ], 
     "language": "python", 
     "outputs": [], 
     "prompt_number": 2
    }, 
    {
     "cell_type": "code", 
     "collapsed": false, 
     "input": [
      "#3.5", 
      "def lineA(c):", 
      "    print ('+ ' + '- '*4)*c, '+ '", 
      "def lineB(c):", 
      "    print ('| ' + ' '*8)*c, '| '", 
      "def oneBox(col):", 
      "    lineA(col)", 
      "    do_four( lineB, col)", 
      "    lineA(col)", 
      "oneBox(2)"
     ], 
     "language": "python", 
     "outputs": [
      {
       "output_type": "stream", 
       "stream": "stdout", 
       "text": [
        "+ - - - - + - - - -  + ", 
        "|         |          | ", 
        "|         |          | ", 
        "|         |          | ", 
        "|         |          | ", 
        "+ - - - - + - - - -  + "
       ]
      }
     ], 
     "prompt_number": 6
    }, 
    {
     "cell_type": "code", 
     "collapsed": false, 
     "input": [
      "def partBox(c):", 
      "    lineA(c)", 
      "    do_four(lineB, c)", 
      "def multiBox():", 
      "    do_four(partBox, 4)", 
      "    lineA(4)", 
      "multiBox()"
     ], 
     "language": "python", 
     "outputs": [
      {
       "output_type": "stream", 
       "stream": "stdout", 
       "text": [
        "+ - - - - + - - - - + - - - - + - - - -  + ", 
        "|         |         |         |          | ", 
        "|         |         |         |          | ", 
        "|         |         |         |          | ", 
        "|         |         |         |          | ", 
        "+ - - - - + - - - - + - - - - + - - - -  + ", 
        "|         |         |         |          | ", 
        "|         |         |         |          | ", 
        "|         |         |         |          | ", 
        "|         |         |         |          | ", 
        "+ - - - - + - - - - + - - - - + - - - -  + ", 
        "|         |         |         |          | ", 
        "|         |         |         |          | ", 
        "|         |         |         |          | ", 
        "|         |         |         |          | ", 
        "+ - - - - + - - - - + - - - - + - - - -  + ", 
        "|         |         |         |          | ", 
        "|         |         |         |          | ", 
        "|         |         |         |          | ", 
        "|         |         |         |          | ", 
        "+ - - - - + - - - - + - - - - + - - - -  + "
       ]
      }
     ], 
     "prompt_number": 7
    }, 
    {
     "cell_type": "code", 
     "collapsed": true, 
     "input": [], 
     "language": "python", 
     "outputs": [], 
     "prompt_number": "&nbsp;"
    }
   ]
  }
 ]
}