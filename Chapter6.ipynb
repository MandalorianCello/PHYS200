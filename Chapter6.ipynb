{
 "metadata": {
  "name": "Chapter6"
 }, 
 "nbformat": 2, 
 "worksheets": [
  {
   "cells": [
    {
     "cell_type": "code", 
     "collapsed": false, 
     "input": [
      "def compare(x, y):", 
      "    if x > y:", 
      "        return 1", 
      "    if x == y:", 
      "        return 0", 
      "    else:", 
      "        return -1", 
      "print(compare(5, 0))", 
      "print(compare(2,2))", 
      "print(compare(3, 4))"
     ], 
     "language": "python", 
     "outputs": [
      {
       "output_type": "stream", 
       "stream": "stdout", 
       "text": [
        "1", 
        "0", 
        "-1"
       ]
      }
     ], 
     "prompt_number": 3
    }, 
    {
     "cell_type": "code", 
     "collapsed": true, 
     "input": [
      "def hypotenuse(a, b):", 
      "    return 0.0"
     ], 
     "language": "python", 
     "outputs": [], 
     "prompt_number": 4
    }, 
    {
     "cell_type": "code", 
     "collapsed": false, 
     "input": [
      "def hypotenuse(a, b):", 
      "    c = a**2 + b**2", 
      "    print c", 
      "    return 0.0", 
      "hypotenuse(3.0, 4.0)"
     ], 
     "language": "python", 
     "outputs": [
      {
       "output_type": "stream", 
       "stream": "stdout", 
       "text": [
        "25.0"
       ]
      }, 
      {
       "output_type": "pyout", 
       "prompt_number": 5, 
       "text": [
        "0.0"
       ]
      }
     ], 
     "prompt_number": 5
    }, 
    {
     "cell_type": "code", 
     "collapsed": false, 
     "input": [
      "def hypotenuse(a, b):", 
      "    c = a**2 + b**2", 
      "    c1 = math.sqrt(c)", 
      "    print c1", 
      "    return 0.0", 
      "hypotenuse(3.0, 4.0)"
     ], 
     "language": "python", 
     "outputs": [
      {
       "output_type": "stream", 
       "stream": "stdout", 
       "text": [
        "5.0"
       ]
      }, 
      {
       "output_type": "pyout", 
       "prompt_number": 6, 
       "text": [
        "0.0"
       ]
      }
     ], 
     "prompt_number": 6
    }, 
    {
     "cell_type": "code", 
     "collapsed": false, 
     "input": [
      "def hypotenuse(a, b):", 
      "    c = math.sqrt(a**2 + b**2)", 
      "    return c", 
      "print hypotenuse(3.0, 4.0)"
     ], 
     "language": "python", 
     "outputs": [
      {
       "output_type": "stream", 
       "stream": "stdout", 
       "text": [
        "5.0"
       ]
      }
     ], 
     "prompt_number": 7
    }, 
    {
     "cell_type": "code", 
     "collapsed": false, 
     "input": [
      "def hypotenuse(a, b):", 
      "    return math.sqrt(a**2 + b**2)", 
      "print hypotenuse(3.0, 4.0)"
     ], 
     "language": "python", 
     "outputs": [
      {
       "output_type": "stream", 
       "stream": "stdout", 
       "text": [
        "5.0"
       ]
      }
     ], 
     "prompt_number": 8
    }, 
    {
     "cell_type": "code", 
     "collapsed": false, 
     "input": [
      "def is_between(x, y, z):", 
      "    return (x <= y) and (y <= z)", 
      "print is_between(1, 2, 3)", 
      "print is_between(2, 2, 2)", 
      "print is_between(1, 4, 3)"
     ], 
     "language": "python", 
     "outputs": [
      {
       "output_type": "stream", 
       "stream": "stdout", 
       "text": [
        "True", 
        "True", 
        "False"
       ]
      }
     ], 
     "prompt_number": 15
    }, 
    {
     "cell_type": "code", 
     "collapsed": false, 
     "input": [
      "def ack(m, n):", 
      "    if m == 0:", 
      "        return n+1", 
      "    if m>0 and n==0:", 
      "        return ack(m-1,1)", 
      "    else:", 
      "        return ack(m-1, ack(m, n-1))", 
      "print ack(3, 4)"
     ], 
     "language": "python", 
     "outputs": [
      {
       "output_type": "stream", 
       "stream": "stdout", 
       "text": [
        "125"
       ]
      }
     ], 
     "prompt_number": 21
    }, 
    {
     "cell_type": "code", 
     "collapsed": false, 
     "input": [
      "def is_palindrome(x):", 
      "    if (x[0] == x[-1]) and (len(x)>2):", 
      "        return is_palindrome(x[1:-1])", 
      "    else:", 
      "        return (x[0]==x[-1])", 
      "print is_palindrome('racecar')", 
      "print is_palindrome('hello')", 
      "print is_palindrome('noon')"
     ], 
     "language": "python", 
     "outputs": [
      {
       "output_type": "stream", 
       "stream": "stdout", 
       "text": [
        "True", 
        "False", 
        "True"
       ]
      }
     ], 
     "prompt_number": 36
    }, 
    {
     "cell_type": "code", 
     "collapsed": true, 
     "input": [], 
     "language": "python", 
     "outputs": [], 
     "prompt_number": "&nbsp;"
    }
   ]
  }
 ]
}